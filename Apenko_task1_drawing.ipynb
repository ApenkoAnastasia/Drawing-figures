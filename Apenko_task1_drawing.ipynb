{
 "cells": [
  {
   "cell_type": "code",
   "execution_count": 1,
   "metadata": {},
   "outputs": [],
   "source": [
    "import matplotlib.patches as patches\n",
    "import matplotlib.pyplot as plt\n",
    "import numpy as np\n",
    "import matplotlib.animation as animation\n",
    "import math"
   ]
  },
  {
   "cell_type": "code",
   "execution_count": 2,
   "metadata": {},
   "outputs": [],
   "source": [
    "def alg_Brezenhem_for_line(x1, y1, x2, y2):\n",
    "    if(x1 == x2 and y1 == y2): \n",
    "        print(\"Концы отрезка совпадают, введите другие значения.\")\n",
    "    else:\n",
    "        #инициализация\n",
    "        x = x1\n",
    "        y = y1\n",
    "        dx = abs(x2 - x1)\n",
    "        dy = abs(y2 - y1)\n",
    "        s1 = np.sign(x2 - x1)\n",
    "        s2 = np.sign(y2 - y1) \n",
    "        #угловой коэффициент наклона отрезка\n",
    "        if(dy > dx):\n",
    "            temp = dx\n",
    "            dx = dy\n",
    "            dy = temp\n",
    "            ChangeFlag = True\n",
    "        else:\n",
    "            ChangeFlag = False\n",
    "        #инициализация\n",
    "        t = 2*dy - dx\n",
    "        i = 0\n",
    "        x_points = []\n",
    "        y_points = []\n",
    "\n",
    "        #основной цикл\n",
    "        while (i < dx):\n",
    "            x_points.append(x)\n",
    "            y_points.append(y)\n",
    "            while t >= 0:\n",
    "                if(ChangeFlag):\n",
    "                    x += s1\n",
    "                else:\n",
    "                    y += s2\n",
    "                t = t - 2*dx\n",
    "            if(ChangeFlag):\n",
    "                y += s2\n",
    "            else:\n",
    "                x += s1\n",
    "            t = t + 2*dy\n",
    "            i += 1\n",
    "        return x_points,y_points"
   ]
  },
  {
   "cell_type": "code",
   "execution_count": 3,
   "metadata": {},
   "outputs": [
    {
     "name": "stderr",
     "output_type": "stream",
     "text": [
      "MovieWriter PillowWriter unavailable; trying to use <class 'matplotlib.animation.PillowWriter'> instead.\n"
     ]
    },
    {
     "data": {
      "image/png": "[encoded data removed]",
      "text/plain": [
       "<Figure size 432x288 with 1 Axes>"
      ]
     },
     "metadata": {
      "needs_background": "light"
     },
     "output_type": "display_data"
    }
   ],
   "source": [
    "x1 = 5\n",
    "y1 = 3\n",
    "x2 = -11\n",
    "y2 = -7\n",
    "\n",
    "x_points = alg_Brezenhem_for_line(x1, y1, x2, y2)[0]\n",
    "y_points = alg_Brezenhem_for_line(x1, y1, x2, y2)[1]\n",
    "\n",
    "fig, ax = plt.subplots()\n",
    "\n",
    "def init():\n",
    "    plt.plot((x1,x2),(y1,y2))\n",
    "\n",
    "def animate(i):\n",
    "    line = ax.scatter([x_points[i]],[y_points[i]], c = 'r', s = 250, marker = 's')\n",
    "    return line\n",
    "\n",
    "line_animation = animation.FuncAnimation(fig, animate, frames=len(x_points), init_func=init, interval=10, repeat=False)\n",
    "line_animation.save('рисование отрезка.gif', writer='PillowWriter', fps=5)\n"
   ]
  },
  {
   "cell_type": "code",
   "execution_count": 4,
   "metadata": {},
   "outputs": [],
   "source": [
    "def alg_Brezenhem_for_circle(R):\n",
    "    #инициализация начинаем в точке(0;R)\n",
    "    d = 3 - 2*R\n",
    "    u = 6\n",
    "    v = 10 - 4*R\n",
    "    x = 0\n",
    "    y = R\n",
    "    x_points = []\n",
    "    y_points = []\n",
    "    \n",
    "    #цикл алгоритма Брезенхема\n",
    "    while (v < 10):\n",
    "        #отображение точек с помощью преобразований симметрии\n",
    "        x_points.append(x)\n",
    "        y_points.append(y)\n",
    "        x_points.append(x)\n",
    "        y_points.append(-y)\n",
    "        x_points.append(y)\n",
    "        y_points.append(-x)\n",
    "        x_points.append(y)\n",
    "        y_points.append(x)\n",
    "        x_points.append(-x)\n",
    "        y_points.append(y)\n",
    "        x_points.append(-y)\n",
    "        y_points.append(x)\n",
    "        x_points.append(-y)\n",
    "        y_points.append(-x)\n",
    "        x_points.append(-x)\n",
    "        y_points.append(-y)\n",
    "        if(d <= 0):\n",
    "            d += u\n",
    "            u += 4\n",
    "            v += 4\n",
    "            x += 1\n",
    "        else:\n",
    "            d += v\n",
    "            u += 4\n",
    "            v += 8\n",
    "            x += 1\n",
    "            y -= 1\n",
    "    return x_points,y_points\n"
   ]
  },
  {
   "cell_type": "code",
   "execution_count": 5,
   "metadata": {},
   "outputs": [
    {
     "name": "stderr",
     "output_type": "stream",
     "text": [
      "MovieWriter PillowWriter unavailable; trying to use <class 'matplotlib.animation.PillowWriter'> instead.\n"
     ]
    },
    {
     "data": {
      "image/png": "[encoded data removed]",
      "text/plain": [
       "<Figure size 432x288 with 1 Axes>"
      ]
     },
     "metadata": {
      "needs_background": "light"
     },
     "output_type": "display_data"
    }
   ],
   "source": [
    "R = 8\n",
    "x_points = alg_Brezenhem_for_circle(R)[0]\n",
    "y_points = alg_Brezenhem_for_circle(R)[1]\n",
    "\n",
    "fig, ax = plt.subplots()\n",
    "\n",
    "def init():\n",
    "    ax = plt.gca()\n",
    "    ax.add_patch(plt.Circle((0,0), radius= R, ec = 'b', fill = 0))\n",
    "    plt.axis('scaled')\n",
    "    \n",
    "def animate(i):\n",
    "    line = ax.scatter([x_points[i]],[y_points[i]], c = 'r', s = 100, marker = 's')\n",
    "    return line\n",
    "\n",
    "line_animation = animation.FuncAnimation(fig, animate, frames=len(x_points), init_func=init, interval=100, repeat=False)\n",
    "line_animation.save('рисование окружности.gif', writer='PillowWriter', fps=5)\n"
   ]
  },
  {
   "cell_type": "code",
   "execution_count": 6,
   "metadata": {},
   "outputs": [],
   "source": [
    "def alg_Brezenhem_for_ellipse(x0, y0, a, b):\n",
    "    #инициализация переменных\n",
    "    x = 0\n",
    "    y = b\n",
    "    d = b * b + a * a * (1/4 - b)\n",
    "    x_points = []\n",
    "    y_points = []\n",
    "    #переменная для перехода к построению второго участка\n",
    "    x_m = ((a * a)/(math.sqrt(a * a + b * b))) - 1/2\n",
    "    \n",
    "    #пошаговый расчёт первого участка и инициализация пикселей\n",
    "    x_points.append(x0+x)\n",
    "    y_points.append(y0+y)\n",
    "    x_points.append(x0+x)\n",
    "    y_points.append(y0-y)\n",
    "    x_points.append(x0-x)\n",
    "    y_points.append(y0+y)\n",
    "    x_points.append(x0-x)\n",
    "    y_points.append(y0-y)\n",
    "    while (x < x_m):\n",
    "        if (d < 0):\n",
    "            d += b * b * (2 * x + 3)\n",
    "            x += 1\n",
    "        else:\n",
    "            d += b * b * (2 * x + 3) + a * a * (2 - 2 * y)\n",
    "            y -= 1\n",
    "            x += 1\n",
    "        x_points.append(x0+x)\n",
    "        y_points.append(y0+y)\n",
    "        x_points.append(x0+x)\n",
    "        y_points.append(y0-y)\n",
    "        x_points.append(x0-x)\n",
    "        y_points.append(y0+y)\n",
    "        x_points.append(x0-x)\n",
    "        y_points.append(y0-y) \n",
    "    \n",
    "    #для второго участка\n",
    "    d = b * b * (x + 1/2) * (x + 1/2) + a * a * (y - 1) * (y - 1) - a * a * b * b\n",
    "    while (y > 0):\n",
    "        if (d < 0):\n",
    "            d += b * b * (2 * x + 2) + a * a * (3 - 2 * y)\n",
    "            x += 1\n",
    "            y -= 1\n",
    "        else:\n",
    "            d += a * a * (3 - 2 * y)\n",
    "            y -=1\n",
    "        x_points.append(x0+x)\n",
    "        y_points.append(y0+y)\n",
    "        x_points.append(x0+x)\n",
    "        y_points.append(y0-y)\n",
    "        x_points.append(x0-x)\n",
    "        y_points.append(y0+y)\n",
    "        x_points.append(x0-x)\n",
    "        y_points.append(y0-y)\n",
    "    return x_points,y_points"
   ]
  },
  {
   "cell_type": "code",
   "execution_count": 7,
   "metadata": {},
   "outputs": [
    {
     "name": "stderr",
     "output_type": "stream",
     "text": [
      "MovieWriter PillowWriter unavailable; trying to use <class 'matplotlib.animation.PillowWriter'> instead.\n"
     ]
    },
    {
     "data": {
      "image/png": "[encoded data removed]",
      "text/plain": [
       "<Figure size 432x288 with 1 Axes>"
      ]
     },
     "metadata": {
      "needs_background": "light"
     },
     "output_type": "display_data"
    }
   ],
   "source": [
    "x0 = 0\n",
    "y0 = 0\n",
    "a = 15\n",
    "b = 57\n",
    "x_points = alg_Brezenhem_for_ellipse(x0, y0, a, b)[0]\n",
    "y_points = alg_Brezenhem_for_ellipse(x0, y0, a, b)[1]\n",
    "\n",
    "fig, ax = plt.subplots()\n",
    "    \n",
    "def animate(i):\n",
    "    line = ax.scatter([x_points[i]],[y_points[i]], c = 'r', s = 100, marker = 's')\n",
    "    plt.axis('scaled')\n",
    "    return line\n",
    "\n",
    "line_animation = animation.FuncAnimation(fig, animate, frames=len(x_points), interval=150, repeat=True)\n",
    "line_animation.save('рисование эллипса.gif', writer='PillowWriter', fps=10)"
   ]
  }
 ],
 "metadata": {
  "kernelspec": {
   "display_name": "Python 3",
   "language": "python",
   "name": "python3"
  },
  "language_info": {
   "codemirror_mode": {
    "name": "ipython",
    "version": 3
   },
   "file_extension": ".py",
   "mimetype": "text/x-python",
   "name": "python",
   "nbconvert_exporter": "python",
   "pygments_lexer": "ipython3",
   "version": "3.7.6"
  }
 },
 "nbformat": 4,
 "nbformat_minor": 4
}
